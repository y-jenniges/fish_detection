{
 "cells": [
  {
   "cell_type": "code",
   "execution_count": 1,
   "metadata": {},
   "outputs": [],
   "source": [
    "import json\n",
    "import matplotlib.pyplot as plt\n",
    "import os\n",
    "import statistics\n",
    "import numpy as np"
   ]
  },
  {
   "cell_type": "code",
   "execution_count": 2,
   "metadata": {},
   "outputs": [],
   "source": [
    "# load annotation files\n",
    "#label_root = \"../data/maritime_dataset/labels/\"\n",
    "label_root = \"../data/maritime_dataset/labels/\"\n",
    "\n",
    "label_path = \"training_labels_animals.json\"\n",
    "with open(os.path.join(label_root, label_path) , 'r') as f:\n",
    "    train_labels_animals = json.load(f)\n",
    "    \n",
    "label_path = \"test_labels.json\"\n",
    "with open(os.path.join(label_root, label_path), 'r') as f:\n",
    "    test_labels = json.load(f)\n",
    "    \n",
    "label_path = \"training_labels_no_animals.json\"\n",
    "with open(os.path.join(label_root, label_path), 'r') as f:\n",
    "    train_labels_no_animals = json.load(f)\n",
    "    \n",
    "label_path = \"validation_labels.json\"\n",
    "with open(os.path.join(label_root, label_path), 'r') as f:\n",
    "    val_labels = json.load(f)"
   ]
  },
  {
   "cell_type": "code",
   "execution_count": 20,
   "metadata": {},
   "outputs": [],
   "source": [
    "# data = test_labels\n",
    "data = test_labels\n",
    "# data = train_labels_no_animals"
   ]
  },
  {
   "cell_type": "code",
   "execution_count": 21,
   "metadata": {},
   "outputs": [
    {
     "name": "stdout",
     "output_type": "stream",
     "text": [
      "#Images: 983\n"
     ]
    }
   ],
   "source": [
    "# number of images \n",
    "print(f\"#Images: {len(data)}\")"
   ]
  },
  {
   "cell_type": "code",
   "execution_count": 22,
   "metadata": {},
   "outputs": [],
   "source": [
    "# animal group IdS\n",
    "fish_group = [0, 1, 0, 0, 0, 0, 0, 0, 0, 0, 0]\n",
    "crustacea_group = [0, 0, 0, 1, 0, 0, 0, 0, 0, 0, 0]\n",
    "chaetognatha_group = [0, 0, 0, 0, 0, 1, 0, 0, 0, 0, 0]\n",
    "unidentified_group = [0, 0, 0, 0, 0, 0, 0, 1, 0, 0, 0]\n",
    "jellyfish_group = [0, 0, 0, 0, 0, 0, 0, 0, 0, 1, 0]\n",
    "nothing_group = [1,0,0,0,0,0,0,0,0,0,0]\n",
    "\n",
    "def print_animal_statistics(animal_id):\n",
    "    images_with_fish = []#[entry for entry in data for animal in entry['animals'] if animal_id == animal['group']] # i need to make a set out of this\n",
    "    for entry in data:\n",
    "        for animal in entry['animals']:        \n",
    "            if animal['group'] == animal_id and entry not in images_with_fish:\n",
    "                images_with_fish.append(entry)\n",
    "\n",
    "    number_of_images_with_fish = len(images_with_fish)\n",
    "\n",
    "    number_of_fish_per_image = []\n",
    "    for entry in data:\n",
    "        count = 0\n",
    "        for animal in entry['animals']:\n",
    "            if animal['group'] == animal_id:\n",
    "                count +=1\n",
    "        number_of_fish_per_image.append(count)\n",
    "\n",
    "    number_of_fish_per_fish_image = [i for i in number_of_fish_per_image if i != 0]\n",
    " \n",
    "    average_number_of_fish_per_image = 0 if number_of_fish_per_image ==[] else sum(number_of_fish_per_image)/len(number_of_fish_per_image) #statistics.mean(number_of_fish_per_image)\n",
    "    average_number_of_fish_per_fish_image = 0 if number_of_fish_per_fish_image==[] else sum(number_of_fish_per_fish_image)/len(number_of_fish_per_fish_image)  \n",
    "\n",
    "    number_of_fish = sum(number_of_fish_per_image)\n",
    "\n",
    "    head_tail_distances = []\n",
    "    for image in data:\n",
    "        for i in range(len(image['animals'])):\n",
    "            if image[\"animals\"][i]['group'] == animal_id:\n",
    "                dx = image[\"animals\"][i]['position'][0] - image[\"animals\"][i+1]['position'][0]\n",
    "                dy = image[\"animals\"][i]['position'][1] - image[\"animals\"][i+1]['position'][1]\n",
    "                head_tail_distances.append(np.sqrt(dx*dx + dy*dy))\n",
    "    average_head_tail_distance = np.mean(head_tail_distances)\n",
    "        \n",
    "    print(f\"Number of images with animals: {number_of_images_with_fish}\\n\\\n",
    "Number of animals: {number_of_fish}\\n\\\n",
    "Average number of animals per image: {average_number_of_fish_per_image}\\n\\\n",
    "Average number of animals per image (only considering images that contain animals): {average_number_of_fish_per_fish_image}\\n\\\n",
    "Average head tail distance: {average_head_tail_distance}\")\n"
   ]
  },
  {
   "cell_type": "code",
   "execution_count": 23,
   "metadata": {},
   "outputs": [
    {
     "name": "stdout",
     "output_type": "stream",
     "text": [
      "Fish\n",
      "Number of images with animals: 79\n",
      "Number of animals: 183\n",
      "Average number of animals per image: 0.1861648016276704\n",
      "Average number of animals per image (only considering images that contain animals): 2.3164556962025316\n",
      "Average head tail distance: 197.45809110012047\n",
      "\n",
      "Crustacea\n",
      "Number of images with animals: 90\n",
      "Number of animals: 191\n",
      "Average number of animals per image: 0.1943031536113937\n",
      "Average number of animals per image (only considering images that contain animals): 2.1222222222222222\n",
      "Average head tail distance: 68.83461450125868\n",
      "\n",
      "Chaetognatha\n",
      "Number of images with animals: 9\n",
      "Number of animals: 11\n",
      "Average number of animals per image: 0.011190233977619531\n",
      "Average number of animals per image (only considering images that contain animals): 1.2222222222222223\n",
      "Average head tail distance: 102.54814778311888\n",
      "\n",
      "Unidentified\n",
      "Number of images with animals: 4\n",
      "Number of animals: 5\n",
      "Average number of animals per image: 0.00508646998982706\n",
      "Average number of animals per image (only considering images that contain animals): 1.25\n",
      "Average head tail distance: 33.24902493983554\n",
      "\n",
      "Jellyfish\n",
      "Number of images with animals: 7\n",
      "Number of animals: 9\n",
      "Average number of animals per image: 0.009155645981688708\n",
      "Average number of animals per image (only considering images that contain animals): 1.2857142857142858\n",
      "Average head tail distance: 162.44858648516214\n",
      "\n",
      "Nothing\n",
      "Number of images with animals: 0\n",
      "Number of animals: 0\n",
      "Average number of animals per image: 0.0\n",
      "Average number of animals per image (only considering images that contain animals): 0\n",
      "Average head tail distance: nan\n",
      "\n"
     ]
    }
   ],
   "source": [
    "# print all statistics\n",
    "print(\"Fish\")\n",
    "print_animal_statistics(fish_group)\n",
    "print(f\"\\nCrustacea\")\n",
    "print_animal_statistics(crustacea_group)\n",
    "print(f\"\\nChaetognatha\")\n",
    "print_animal_statistics(chaetognatha_group)\n",
    "print(f\"\\nUnidentified\")\n",
    "print_animal_statistics(unidentified_group)\n",
    "print(f\"\\nJellyfish\")\n",
    "print_animal_statistics(jellyfish_group)\n",
    "print(f\"\\nNothing\")\n",
    "print_animal_statistics(nothing_group)\n",
    "print()"
   ]
  },
  {
   "cell_type": "code",
   "execution_count": 7,
   "metadata": {},
   "outputs": [
    {
     "ename": "NameError",
     "evalue": "name 'number_of_fish_per_image' is not defined",
     "output_type": "error",
     "traceback": [
      "\u001b[1;31m---------------------------------------------------------------------------\u001b[0m",
      "\u001b[1;31mNameError\u001b[0m                                 Traceback (most recent call last)",
      "\u001b[1;32m<ipython-input-7-61d40b61b301>\u001b[0m in \u001b[0;36m<module>\u001b[1;34m\u001b[0m\n\u001b[0;32m      1\u001b[0m \u001b[0mfig1\u001b[0m\u001b[1;33m,\u001b[0m \u001b[0max1\u001b[0m \u001b[1;33m=\u001b[0m \u001b[0mplt\u001b[0m\u001b[1;33m.\u001b[0m\u001b[0msubplots\u001b[0m\u001b[1;33m(\u001b[0m\u001b[1;33m)\u001b[0m\u001b[1;33m\u001b[0m\u001b[1;33m\u001b[0m\u001b[0m\n\u001b[0;32m      2\u001b[0m \u001b[0max1\u001b[0m\u001b[1;33m.\u001b[0m\u001b[0mset_title\u001b[0m\u001b[1;33m(\u001b[0m\u001b[1;34m'Number of Fish per Image with Fish'\u001b[0m\u001b[1;33m)\u001b[0m\u001b[1;33m\u001b[0m\u001b[1;33m\u001b[0m\u001b[0m\n\u001b[1;32m----> 3\u001b[1;33m \u001b[0max1\u001b[0m\u001b[1;33m.\u001b[0m\u001b[0mboxplot\u001b[0m\u001b[1;33m(\u001b[0m\u001b[1;33m[\u001b[0m\u001b[0mi\u001b[0m \u001b[1;32mfor\u001b[0m \u001b[0mi\u001b[0m \u001b[1;32min\u001b[0m \u001b[0mnumber_of_fish_per_image\u001b[0m \u001b[1;32mif\u001b[0m \u001b[0mi\u001b[0m \u001b[1;33m!=\u001b[0m \u001b[1;36m0\u001b[0m\u001b[1;33m]\u001b[0m\u001b[1;33m)\u001b[0m\u001b[1;31m#, showfliers=False)\u001b[0m\u001b[1;33m\u001b[0m\u001b[1;33m\u001b[0m\u001b[0m\n\u001b[0m\u001b[0;32m      4\u001b[0m \u001b[1;33m\u001b[0m\u001b[0m\n\u001b[0;32m      5\u001b[0m \u001b[0mplt\u001b[0m\u001b[1;33m.\u001b[0m\u001b[0msavefig\u001b[0m\u001b[1;33m(\u001b[0m\u001b[1;34m\"number_fish_per_image_with_fish.png\"\u001b[0m\u001b[1;33m)\u001b[0m\u001b[1;33m\u001b[0m\u001b[1;33m\u001b[0m\u001b[0m\n",
      "\u001b[1;31mNameError\u001b[0m: name 'number_of_fish_per_image' is not defined"
     ]
    },
    {
     "data": {
      "image/png": "[encoded data removed]",
      "text/plain": [
       "<Figure size 432x288 with 1 Axes>"
      ]
     },
     "metadata": {
      "needs_background": "light"
     },
     "output_type": "display_data"
    }
   ],
   "source": [
    "fig1, ax1 = plt.subplots()\n",
    "ax1.set_title('Number of Fish per Image with Fish')\n",
    "ax1.boxplot([i for i in number_of_fish_per_image if i != 0])#, showfliers=False)\n",
    "\n",
    "plt.savefig(\"number_fish_per_image_with_fish.png\")\n",
    "\n",
    "##########################################################################################\n",
    "fig1, ax1 = plt.subplots()\n",
    "ax1.set_title('Number of Fish per Image')\n",
    "ax1.boxplot(number_of_fish_per_image)#, showfliers=False)\n",
    "\n",
    "plt.savefig(\"number_fish_per_image.png\")"
   ]
  },
  {
   "cell_type": "code",
   "execution_count": null,
   "metadata": {},
   "outputs": [],
   "source": []
  },
  {
   "cell_type": "markdown",
   "metadata": {},
   "source": [
    "### Create label files for fish only"
   ]
  },
  {
   "cell_type": "code",
   "execution_count": 44,
   "metadata": {},
   "outputs": [],
   "source": [
    "# search for all images that contain fish only\n",
    "\n",
    "# train_labels_animals\n",
    "# train_labels_no_animals\n",
    "# test_labels\n",
    "\n",
    "fish_id = [0.0, 1, 0.0, 0.0, 0.0, 0.0, 0.0, 0.0, 0.0, 0.0, 0.0]\n",
    "\n",
    "fish_entries_train = []\n",
    "for entry in train_labels_animals:\n",
    "    for animal in entry['animals']:\n",
    "        if fish_id == animal['group']:\n",
    "            fish_entries_train.append(entry)\n",
    "            break\n",
    "\n",
    "fish_entries_test = []\n",
    "for entry in test_labels:\n",
    "    for animal in entry['animals']:\n",
    "        if fish_id == animal['group']:\n",
    "            fish_entries_test.append(entry)\n",
    "            break"
   ]
  },
  {
   "cell_type": "code",
   "execution_count": null,
   "metadata": {},
   "outputs": [],
   "source": []
  },
  {
   "cell_type": "code",
   "execution_count": null,
   "metadata": {},
   "outputs": [],
   "source": []
  },
  {
   "cell_type": "code",
   "execution_count": 29,
   "metadata": {},
   "outputs": [],
   "source": []
  },
  {
   "cell_type": "code",
   "execution_count": null,
   "metadata": {
    "scrolled": true
   },
   "outputs": [],
   "source": []
  },
  {
   "cell_type": "code",
   "execution_count": null,
   "metadata": {},
   "outputs": [],
   "source": []
  },
  {
   "cell_type": "code",
   "execution_count": null,
   "metadata": {},
   "outputs": [],
   "source": []
  },
  {
   "cell_type": "markdown",
   "metadata": {},
   "source": [
    "### Timos data"
   ]
  },
  {
   "cell_type": "code",
   "execution_count": 30,
   "metadata": {},
   "outputs": [],
   "source": [
    "import h5py\n",
    "path = \"G:/Universität/UniBremen/Semester4/Data/maritime_dataset/labels.h5\""
   ]
  },
  {
   "cell_type": "code",
   "execution_count": 31,
   "metadata": {},
   "outputs": [
    {
     "name": "stdout",
     "output_type": "stream",
     "text": [
      "Keys: <KeysViewHDF5 ['test_labels', 'training_labels_animals', 'training_labels_no_animals']>\n"
     ]
    }
   ],
   "source": [
    "with h5py.File(path, \"r\") as f:\n",
    "    # List all groups\n",
    "    print(\"Keys: %s\" % f.keys())\n",
    "    keys = list(f.keys())\n",
    "\n",
    "    # Get the data\n",
    "    test_labels = list(f[keys[0]])\n",
    "    training_labels_animals = list(f[keys[1]])\n",
    "    training_labels_no_animals = list(f[keys[2]])"
   ]
  },
  {
   "cell_type": "code",
   "execution_count": 32,
   "metadata": {},
   "outputs": [
    {
     "name": "stdout",
     "output_type": "stream",
     "text": [
      "983\n",
      "1452\n",
      "7401\n"
     ]
    }
   ],
   "source": [
    "print(len(test_labels))\n",
    "print(len(training_labels_animals))\n",
    "print(len(training_labels_no_animals))"
   ]
  },
  {
   "cell_type": "code",
   "execution_count": 33,
   "metadata": {},
   "outputs": [],
   "source": [
    "def print_animal_info(labelimg):\n",
    "    vimg = labelimg[:, :, [-4,-3,-2,-1]].astype(np.int) # just take the vector data\n",
    "    \n",
    "    positions_front = []\n",
    "    positions_back = []\n",
    "    groups = []\n",
    "\n",
    "    scaling = 32\n",
    "    s_size = 16\n",
    "\n",
    "    for x in range(vimg.shape[0]):\n",
    "        for y in range(vimg.shape[1]):\n",
    "            if vimg[x, y][0] != 0 or vimg[x, y][1] != 0 and vimg[x, y][2] != 0 or vimg[x, y][3] != 0:\n",
    "                pos_front_x, pos_front_y = (y * scaling) + s_size, (x * scaling) + s_size\n",
    "                pos_back_x, pos_back_y = (y * scaling) + s_size, (x * scaling) + s_size\n",
    "\n",
    "                x_pos_f = pos_front_x + vimg[x, y][0]\n",
    "                y_pos_f = pos_front_y + vimg[x, y][1]\n",
    "                x_pos_b = pos_back_x + vimg[x, y][2]\n",
    "                y_pos_b = pos_back_y + vimg[x, y][3]\n",
    "\n",
    "                if [x_pos_f, y_pos_f] not in positions_front and [x_pos_b, y_pos_b] not in positions_back: \n",
    "                    positions_front.append([x_pos_f, y_pos_f])\n",
    "                    positions_back.append([x_pos_b, y_pos_b])\n",
    "                    groups.append(labelimg[x,y,0:6])\n",
    "                    \n",
    "#     print(positions_front)\n",
    "#     print(positions_back)\n",
    "#     print(groups)\n",
    "    return positions_front, positions_back, groups"
   ]
  },
  {
   "cell_type": "code",
   "execution_count": 34,
   "metadata": {},
   "outputs": [
    {
     "name": "stdout",
     "output_type": "stream",
     "text": [
      "Fish: 1786\n",
      "Crustacea: 1593\n",
      "Chaetognatha: 113\n",
      "Unidentified: 72\n",
      "Jellyfish: 102\n",
      "Nothing: 0\n"
     ]
    }
   ],
   "source": [
    "data = training_labels_animals\n",
    "\n",
    "fish = 0\n",
    "crust = 0\n",
    "chaet = 0\n",
    "unidentified = 0\n",
    "jellyfish = 0\n",
    "nothing = 0\n",
    "\n",
    "for entry in data:\n",
    "    pos_f, pos_b, groups = print_animal_info(entry)\n",
    "    \n",
    "    for g in groups:\n",
    "        if np.array_equal(g, np.array([0,1,0,0,0,0])): fish+=1\n",
    "        elif np.array_equal(g, np.array([0,0,1,0,0,0])): crust+=1\n",
    "        elif np.array_equal(g, np.array([0,0,0,1,0,0])): chaet+=1\n",
    "        elif np.array_equal(g, np.array([0,0,0,0,1,0])): unidentified+=1\n",
    "        elif np.array_equal(g, np.array([0,0,0,0,0,1])): jellyfish+=1\n",
    "        elif np.array_equal(g, np.array([1,0,0,0,0,0])): nothing+=1\n",
    "            \n",
    "print(f\"Fish: {fish}\\nCrustacea: {crust}\\nChaetognatha: {chaet}\\nUnidentified: {unidentified}\\nJellyfish: {jellyfish}\\nNothing: {nothing}\")"
   ]
  },
  {
   "cell_type": "code",
   "execution_count": 48,
   "metadata": {
    "scrolled": true
   },
   "outputs": [
    {
     "name": "stdout",
     "output_type": "stream",
     "text": [
      "zeroooooooooooooooooooooooo at 484\n",
      " groups\n",
      "[array([0., 0., 0., 0., 1., 0.], dtype=float32), array([0., 0., 0., 0., 1., 0.], dtype=float32), array([0., 0., 0., 0., 1., 0.], dtype=float32), array([0., 0., 0., 0., 1., 0.], dtype=float32), array([0., 0., 0., 0., 1., 0.], dtype=float32), array([0., 0., 0., 0., 1., 0.], dtype=float32), array([0., 0., 0., 0., 1., 0.], dtype=float32), array([1., 0., 0., 0., 1., 0.], dtype=float32), array([0., 0., 0., 0., 1., 0.], dtype=float32)]\n",
      "front\n",
      "[[23, 610], [21, 863], [605, 784], [23, 642], [21, 895], [23, 674], [21, 927], [23, 706], [21, 959]]\n",
      "back\n",
      "back\n",
      "[[4253, 508], [4264, 672], [3987, 544], [4253, 540], [4264, 704], [4253, 572], [4264, 736], [4253, 604], [4264, 768]]\n"
     ]
    }
   ],
   "source": [
    "# extract group and position from Timo's data\n",
    "import json\n",
    "\n",
    "json_file = []\n",
    "json_file_2 = []\n",
    "\n",
    "# iterate over all labels from training_data_animals\n",
    "for i in range(len(training_labels_animals)):\n",
    "#for i in range(1):\n",
    "    #print(str(i))\n",
    "    img_path = \"G:/Universität/UniBremen/Semester4/Data/maritime_dataset/training_data_animals/\"+str(i)+\".jpg\"\n",
    "    img_path = \"G:/Universität/UniBremen/Semester4/Data/maritime_dataset/test_data/\"+str(i)+\".jpg\"\n",
    "    #img_path = \"../data/maritime_dataset/training_data_no_animals/\"+str(i)+\".jpg\"\n",
    "   \n",
    "    pos_f, pos_b, groups = print_animal_info(training_labels_animals[i])\n",
    "    \n",
    "    animal_list = []\n",
    "    animal_list_2 = []\n",
    "    for j in range(len(groups)): \n",
    "        #print(groups[j])\n",
    "        \n",
    "        group1 = []\n",
    "        group2 = []\n",
    "        \n",
    "        if groups[j].tolist().index(1) == 0: group1 = [1,0,0,0,0,0,0,0,0,0,0]; group2 =  [1,0,0,0,0,0,0,0,0,0,0]; print(f\"zeroooooooooooooooooooooooo at {i}\\n groups\\n{groups}\\nfront\\n{pos_f}\\nback\\nback\\n{pos_b}\")\n",
    "        elif groups[j].tolist().index(1) == 1: group1 = [0,1,0,0,0,0,0,0,0,0,0]; group2 = [0,0,1,0,0,0,0,0,0,0,0]\n",
    "        elif groups[j].tolist().index(1) == 2: group1 = [0,0,0,1,0,0,0,0,0,0,0]; group2 = [0,0,0,0,1,0,0,0,0,0,0]\n",
    "        elif groups[j].tolist().index(1) == 3: group1 = [0,0,0,0,0,1,0,0,0,0,0]; group2 = [0,0,0,0,0,0,1,0,0,0,0]\n",
    "        elif groups[j].tolist().index(1) == 4: group1 = [0,0,0,0,0,0,0,1,0,0,0]; group2 = [0,0,0,0,0,0,0,0,1,0,0]\n",
    "        elif groups[j].tolist().index(1) == 5: group1 = [0,0,0,0,0,0,0,0,0,1,0]; group2 = [0,0,0,0,0,0,0,0,0,0,1]\n",
    "        \n",
    "        temp1 = {}\n",
    "        temp1[\"group\"] = group1\n",
    "        temp1[\"position\"] = [int(s) for s in  pos_f[j]] \n",
    "        \n",
    "        temp2 = {}\n",
    "        temp2[\"group\"] = group2\n",
    "        temp2[\"position\"] = [int(s) for s in pos_b[j]] \n",
    "        \n",
    "#         temp3 = {}\n",
    "#         temp3[\"head_group\"] = group1\n",
    "#         temp3[\"tail_group\"] = group2\n",
    "#         temp3[\"head_pos\"] = [int(s) for s in  pos_f[j]] \n",
    "#         temp3[\"tail_pos\"] = [int(s) for s in pos_b[j]] \n",
    "        \n",
    "#         animal_list_2.append(temp3)\n",
    "        \n",
    "        animal_list.append(temp1)\n",
    "        animal_list.append(temp2)\n",
    "    \n",
    "    obj={}\n",
    "    obj[\"filename\"] = img_path\n",
    "    obj[\"animals\"] = animal_list\n",
    "    \n",
    "    json_file.append(obj)\n",
    "    \n",
    "    \n",
    "#     obj={}\n",
    "#     obj[\"filename\"] = img_path\n",
    "#     obj[\"animals\"] = animal_list_2\n",
    "    \n",
    "#     json_file_2.append(obj)"
   ]
  },
  {
   "cell_type": "code",
   "execution_count": 49,
   "metadata": {},
   "outputs": [],
   "source": [
    "# index 484 is zero?\n",
    "with open('test_labels_2.json', 'w') as f:\n",
    "    json.dump(json_file_2, f)"
   ]
  },
  {
   "cell_type": "code",
   "execution_count": 51,
   "metadata": {},
   "outputs": [
    {
     "name": "stdout",
     "output_type": "stream",
     "text": [
      "{'filename': 'G:/Universität/UniBremen/Semester4/Data/maritime_dataset/test_data/0.jpg', 'animals': [{'head_group': [0, 1, 0, 0, 0, 0, 0, 0, 0, 0, 0], 'tail_group': [0, 0, 1, 0, 0, 0, 0, 0, 0, 0, 0], 'head_pos': [1144, 942], 'tail_pos': [874, 785]}, {'head_group': [0, 1, 0, 0, 0, 0, 0, 0, 0, 0, 0], 'tail_group': [0, 0, 1, 0, 0, 0, 0, 0, 0, 0, 0], 'head_pos': [834, 1571], 'tail_pos': [941, 1432]}, {'head_group': [0, 1, 0, 0, 0, 0, 0, 0, 0, 0, 0], 'tail_group': [0, 0, 1, 0, 0, 0, 0, 0, 0, 0, 0], 'head_pos': [3780, 1474], 'tail_pos': [3479, 1564]}, {'head_group': [0, 1, 0, 0, 0, 0, 0, 0, 0, 0, 0], 'tail_group': [0, 0, 1, 0, 0, 0, 0, 0, 0, 0, 0], 'head_pos': [1867, 1714], 'tail_pos': [1690, 1664]}, {'head_group': [0, 1, 0, 0, 0, 0, 0, 0, 0, 0, 0], 'tail_group': [0, 0, 1, 0, 0, 0, 0, 0, 0, 0, 0], 'head_pos': [2336, 2390], 'tail_pos': [2422, 2042]}]}\n"
     ]
    }
   ],
   "source": [
    "print(json_file_2[0])"
   ]
  },
  {
   "cell_type": "code",
   "execution_count": null,
   "metadata": {},
   "outputs": [],
   "source": [
    "# index 484 is zero?\n",
    "with open('training_labels_animals.json', 'w') as f:\n",
    "    json.dump(json_file, f)"
   ]
  },
  {
   "cell_type": "markdown",
   "metadata": {},
   "source": [
    "### Correct entry 484 in my label files"
   ]
  },
  {
   "cell_type": "code",
   "execution_count": 50,
   "metadata": {},
   "outputs": [
    {
     "name": "stdout",
     "output_type": "stream",
     "text": [
      "[{'group': [0, 0, 0, 0, 0, 0, 0, 1, 0, 0, 0], 'position': [23, 610]}, {'group': [0, 0, 0, 0, 0, 0, 0, 0, 1, 0, 0], 'position': [4253, 508]}, {'group': [0, 0, 0, 0, 0, 0, 0, 1, 0, 0, 0], 'position': [21, 863]}, {'group': [0, 0, 0, 0, 0, 0, 0, 0, 1, 0, 0], 'position': [4264, 672]}, {'group': [0, 0, 0, 0, 0, 0, 0, 1, 0, 0, 0], 'position': [605, 784]}, {'group': [0, 0, 0, 0, 0, 0, 0, 0, 1, 0, 0], 'position': [3987, 544]}, {'group': [0, 0, 0, 0, 0, 0, 0, 1, 0, 0, 0], 'position': [23, 642]}, {'group': [0, 0, 0, 0, 0, 0, 0, 0, 1, 0, 0], 'position': [4253, 540]}, {'group': [0, 0, 0, 0, 0, 0, 0, 1, 0, 0, 0], 'position': [21, 895]}, {'group': [0, 0, 0, 0, 0, 0, 0, 0, 1, 0, 0], 'position': [4264, 704]}, {'group': [0, 0, 0, 0, 0, 0, 0, 1, 0, 0, 0], 'position': [23, 674]}, {'group': [0, 0, 0, 0, 0, 0, 0, 0, 1, 0, 0], 'position': [4253, 572]}, {'group': [0, 0, 0, 0, 0, 0, 0, 1, 0, 0, 0], 'position': [21, 927]}, {'group': [0, 0, 0, 0, 0, 0, 0, 0, 1, 0, 0], 'position': [4264, 736]}, {'group': [0, 0, 0, 0, 0, 0, 0, 1, 0, 0, 0], 'position': [23, 706]}, {'group': [0, 0, 0, 0, 0, 0, 0, 0, 1, 0, 0], 'position': [4253, 604]}, {'group': [0, 0, 0, 0, 0, 0, 0, 1, 0, 0, 0], 'position': [21, 959]}, {'group': [0, 0, 0, 0, 0, 0, 0, 0, 1, 0, 0], 'position': [4264, 768]}]\n"
     ]
    }
   ],
   "source": [
    "# define the correct animal list\n",
    "pos_f = [[23, 610], [21, 863], [605, 784], [23, 642], [21, 895], [23, 674], [21, 927], [23, 706], [21, 959]]\n",
    "pos_b = [[4253, 508], [4264, 672], [3987, 544], [4253, 540], [4264, 704], [4253, 572], [4264, 736], [4253, 604], [4264, 768]]\n",
    "groups = [np.array([0., 0., 0., 0., 1., 0.]), np.array([0., 0., 0., 0., 1., 0.]), np.array([0., 0., 0., 0., 1., 0.]), np.array([0., 0., 0., 0., 1., 0.]), np.array([0., 0., 0., 0., 1., 0.]), np.array([0., 0., 0., 0., 1., 0.]), np.array([0., 0., 0., 0., 1., 0.]), np.array([0., 0., 0., 0., 1., 0.]), np.array([0., 0., 0., 0., 1., 0.])]\n",
    "\n",
    "animal_list = []\n",
    "for j in range(len(groups)): \n",
    "    #print(groups[j])\n",
    "\n",
    "    group1 = []\n",
    "    group2 = []\n",
    "\n",
    "    if groups[j].tolist().index(1) == 0: group1 = [1,0,0,0,0,0,0,0,0,0,0]; group2 =  [1,0,0,0,0,0,0,0,0,0,0]; print(f\"zeroooooooooooooooooooooooo at {i}\\n groups\\n{groups}\\nfront\\n{pos_f}\\nback\\nback\\n{pos_b}\")\n",
    "    elif groups[j].tolist().index(1) == 1: group1 = [0,1,0,0,0,0,0,0,0,0,0]; group2 = [0,0,1,0,0,0,0,0,0,0,0]\n",
    "    elif groups[j].tolist().index(1) == 2: group1 = [0,0,0,1,0,0,0,0,0,0,0]; group2 = [0,0,0,0,1,0,0,0,0,0,0]\n",
    "    elif groups[j].tolist().index(1) == 3: group1 = [0,0,0,0,0,1,0,0,0,0,0]; group2 = [0,0,0,0,0,0,1,0,0,0,0]\n",
    "    elif groups[j].tolist().index(1) == 4: group1 = [0,0,0,0,0,0,0,1,0,0,0]; group2 = [0,0,0,0,0,0,0,0,1,0,0]\n",
    "    elif groups[j].tolist().index(1) == 5: group1 = [0,0,0,0,0,0,0,0,0,1,0]; group2 = [0,0,0,0,0,0,0,0,0,0,1]\n",
    "\n",
    "    temp1 = {}\n",
    "    temp1[\"group\"] = group1\n",
    "    temp1[\"position\"] = [int(s) for s in  pos_f[j]] \n",
    "\n",
    "    temp2 = {}\n",
    "    temp2[\"group\"] = group2\n",
    "    temp2[\"position\"] = [int(s) for s in pos_b[j]] \n",
    "\n",
    "    animal_list.append(temp1)\n",
    "    animal_list.append(temp2)\n",
    "\n",
    "\n",
    "print(animal_list)"
   ]
  },
  {
   "cell_type": "code",
   "execution_count": null,
   "metadata": {},
   "outputs": [],
   "source": [
    "# load all files to be updated\n",
    "#img = \"G:/Universität/UniBremen/Semester4/Data/maritime_dataset/training_data_animals/484.jpg\"\n",
    "#img = \"G:/Universität/UniBremen/Semester4/Data/maritime_dataset_25/training_data_animals/484.jpg\"\n",
    "#img = \"../data/maritime_dataset/training_data_animals/484.jpg\"\n",
    "img = \"../data/maritime_dataset_25/training_data_animals/484.jpg\"\n",
    "\n",
    "labels_g = \"../data/maritime_dataset/labels/training_labels_animals.json\"\n",
    "labels_g_25 = \"../data/maritime_dataset_25/labels/training_labels_animals.json\"\n",
    "\n",
    "labels = \"../data/maritime_dataset/labels/normal/training_labels_animals.json\"\n",
    "labels_25 = \"../data/maritime_dataset_25/labels/normal/training_labels_animals.json\"\n",
    "\n",
    "with open(labels_g , 'r') as f:\n",
    "    g1 = json.load(f)\n",
    "    \n",
    "with open(labels_g_25 , 'r') as f:\n",
    "    g2 = json.load(f)\n",
    "    \n",
    "with open(labels , 'r') as f:\n",
    "    a1 = json.load(f)\n",
    "    \n",
    "with open(labels_25, 'r') as f:\n",
    "    a2 = json.load(f)"
   ]
  },
  {
   "cell_type": "code",
   "execution_count": null,
   "metadata": {},
   "outputs": [],
   "source": [
    "# update dict entry\n",
    "file = a2\n",
    "\n",
    "for entry in file:\n",
    "    if entry['filename'] == img:\n",
    "        print(entry)\n",
    "        print(len(entry['animals']))\n",
    "        \n",
    "        entry['animals'] = animal_list\n",
    "        print(entry)\n",
    "        print(len(entry['animals']))"
   ]
  },
  {
   "cell_type": "code",
   "execution_count": null,
   "metadata": {},
   "outputs": [],
   "source": [
    "# save updated training_labels file\n",
    "with open('training_labels_animals.json', 'w') as f:\n",
    "    json.dump(file, f)"
   ]
  },
  {
   "cell_type": "code",
   "execution_count": null,
   "metadata": {},
   "outputs": [],
   "source": []
  }
 ],
 "metadata": {
  "kernelspec": {
   "display_name": "Python 3",
   "language": "python",
   "name": "python3"
  },
  "language_info": {
   "codemirror_mode": {
    "name": "ipython",
    "version": 3
   },
   "file_extension": ".py",
   "mimetype": "text/x-python",
   "name": "python",
   "nbconvert_exporter": "python",
   "pygments_lexer": "ipython3",
   "version": "3.7.7"
  }
 },
 "nbformat": 4,
 "nbformat_minor": 4
}
